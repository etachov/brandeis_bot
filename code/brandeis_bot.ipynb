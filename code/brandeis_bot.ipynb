{
 "cells": [
  {
   "cell_type": "code",
   "execution_count": 9,
   "metadata": {
    "collapsed": false
   },
   "outputs": [],
   "source": [
    "import markovify\n",
    "\n",
    "# quotes from here: https://en.wikiquote.org/wiki/Louis_Brandeis\n",
    "with open(\"data/brandeis_quotes.txt\") as f:\n",
    "    brandeis_quotes = f.read()\n",
    "    \n",
    "brandeis_bot = markovify.Text(brandeis_quotes)"
   ]
  },
  {
   "cell_type": "code",
   "execution_count": 13,
   "metadata": {
    "collapsed": false
   },
   "outputs": [
    {
     "name": "stdout",
     "output_type": "stream",
     "text": [
      "The intensity and complexity of life, attendant upon the free and unrestricted use of the struggle between contending forces.\n",
      "Experience should teach us to be applied is more important how men pursue their occupation than what the occupation is which they select.\n",
      "When, therefore, you increase your business to a jury the most efficient policeman.\n",
      "Against that pernicious doctrine this court has often overruled its earlier decisions.\n",
      "If the government may commit crimes in order to secure conditions favorable to the citizen.\n",
      "What I have desired to do is to be the secret of liberty.\n",
      "This is commonly true even where the error is a better citizen of his intellect.\n",
      "Stare decisis is usually the wise policy, because in most Americans some spark of idealism, which can be unmade.\n",
      "Ways may some day be developed by which the government, the right to be applied.\n",
      "At the foundation of our Constitution undertook to secure conditions favorable to the busy man in his play.\n"
     ]
    }
   ],
   "source": [
    "# print out a bunch of tweet-length simulated brandeis quotes\n",
    "for i in range(10):\n",
    "    print(brandeis_bot.make_short_sentence(140))"
   ]
  }
 ],
 "metadata": {
  "anaconda-cloud": {},
  "kernelspec": {
   "display_name": "Python [conda root]",
   "language": "python",
   "name": "conda-root-py"
  },
  "language_info": {
   "codemirror_mode": {
    "name": "ipython",
    "version": 3
   },
   "file_extension": ".py",
   "mimetype": "text/x-python",
   "name": "python",
   "nbconvert_exporter": "python",
   "pygments_lexer": "ipython3",
   "version": "3.5.2"
  }
 },
 "nbformat": 4,
 "nbformat_minor": 1
}
